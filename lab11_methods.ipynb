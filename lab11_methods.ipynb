class Student:
    def hello(self):
        print("Hello! I am a student.")
student_instance = Student()
student_instance.hello()

class Student:
    def __init__(self, name, index_number):
        self.name = name
        self.index_number = index_number

    def hello(self):
        print(f"Hello, I am {self.name}, my index number is {self.index_number}")


student1 = Student("Kamran", "35315")
student1.hello()

